{
  "nbformat": 4,
  "nbformat_minor": 0,
  "metadata": {
    "colab": {
      "name": "Untitled3.ipynb",
      "provenance": []
    },
    "kernelspec": {
      "name": "python3",
      "display_name": "Python 3"
    },
    "language_info": {
      "name": "python"
    }
  },
  "cells": [
    {
      "cell_type": "code",
      "metadata": {
        "id": "RauI63c0ZBwU"
      },
      "source": [
        "#საჭირო ბიბლიოთეკების დაიმპორტება\n",
        "import pandas as pd\n",
        "import numpy as np\n",
        "import os\n",
        "from sklearn.model_selection import train_test_split\n",
        "from sklearn import metrics\n",
        "from tensorflow.keras.models import Sequential\n",
        "from tensorflow.keras.layers import Dense, Activation\n",
        "from sklearn.model_selection import train_test_split\n",
        "from sklearn import preprocessing\n",
        "from tensorflow.keras.utils import get_file\n"
      ],
      "execution_count": null,
      "outputs": []
    },
    {
      "cell_type": "code",
      "metadata": {
        "colab": {
          "base_uri": "https://localhost:8080/"
        },
        "id": "ShKMnbJUNDef",
        "outputId": "c70cc4d1-cb16-4800-8d85-84143ab7e364"
      },
      "source": [
        "#მონაცემთა კრებულის გადმოწერა\n",
        "path = get_file('kddcup.data_10_percent.gz', origin=\n",
        "    'http://kdd.ics.uci.edu/databases/kddcup99/kddcup.data_10_percent.gz')\n",
        "\n",
        "#მონაცემთა კრებულის CSV ფაილად წაკითხვა\n",
        "df = pd.read_csv(path, header=None)\n",
        "\n"
      ],
      "execution_count": null,
      "outputs": [
        {
          "output_type": "stream",
          "text": [
            "Downloading data from http://kdd.ics.uci.edu/databases/kddcup99/kddcup.data_10_percent.gz\n",
            "2146304/2144903 [==============================] - 1s 0us/step\n"
          ],
          "name": "stdout"
        }
      ]
    },
    {
      "cell_type": "code",
      "metadata": {
        "colab": {
          "base_uri": "https://localhost:8080/",
          "height": 236
        },
        "id": "fENGk9R4ZTvC",
        "outputId": "e597573f-9ddf-4d98-d371-9912219cfa4b"
      },
      "source": [
        "#მონაცემთა კრებულის CSV ფაილად წაკითხვა\n",
        "df = pd.read_csv(path, header=None)\n",
        "\n",
        "# sample only 10% of the dataset\n",
        "df.dropna(inplace=True,axis=1) # For now, just drop NA's \n",
        "# (rows with missing values)\n",
        "\n",
        "# The CSV file has no column heads, so add them\n",
        "df.columns = [\n",
        "    'duration',\n",
        "    'protocol_type',\n",
        "    'service',\n",
        "    'flag',\n",
        "    'src_bytes',\n",
        "    'dst_bytes',\n",
        "    'land',\n",
        "    'wrong_fragment',\n",
        "    'urgent',\n",
        "    'hot',\n",
        "    'num_failed_logins',\n",
        "    'logged_in',\n",
        "    'num_compromised',\n",
        "    'root_shell',\n",
        "    'su_attempted',\n",
        "    'num_root',\n",
        "    'num_file_creations',\n",
        "    'num_shells',\n",
        "    'num_access_files',\n",
        "    'num_outbound_cmds',\n",
        "    'is_host_login',\n",
        "    'is_guest_login',\n",
        "    'count',\n",
        "    'srv_count',\n",
        "    'serror_rate',\n",
        "    'srv_serror_rate',\n",
        "    'rerror_rate',\n",
        "    'srv_rerror_rate',\n",
        "    'same_srv_rate',\n",
        "    'diff_srv_rate',\n",
        "    'srv_diff_host_rate',\n",
        "    'dst_host_count',\n",
        "    'dst_host_srv_count',\n",
        "    'dst_host_same_srv_rate',\n",
        "    'dst_host_diff_srv_rate',\n",
        "    'dst_host_same_src_port_rate',\n",
        "    'dst_host_srv_diff_host_rate',\n",
        "    'dst_host_serror_rate',\n",
        "    'dst_host_srv_serror_rate',\n",
        "    'dst_host_rerror_rate',\n",
        "    'dst_host_srv_rerror_rate',\n",
        "    'outcome'\n",
        "]\n",
        "\n",
        "# გამოვიტანოთ თითოეული ნუმიშის 5 სვეტი\n",
        "pd.set_option('display.max_columns', 5)\n",
        "#თითოეული ნუმიშის 5 მწკრივი\n",
        "pd.set_option('display.max_rows', 5)\n",
        "# გამოვიტანოთ პირველი 5 ნიმუში\n",
        "display(df[0:5])\n",
        "\n"
      ],
      "execution_count": null,
      "outputs": [
        {
          "output_type": "display_data",
          "data": {
            "text/html": [
              "<div>\n",
              "<style scoped>\n",
              "    .dataframe tbody tr th:only-of-type {\n",
              "        vertical-align: middle;\n",
              "    }\n",
              "\n",
              "    .dataframe tbody tr th {\n",
              "        vertical-align: top;\n",
              "    }\n",
              "\n",
              "    .dataframe thead th {\n",
              "        text-align: right;\n",
              "    }\n",
              "</style>\n",
              "<table border=\"1\" class=\"dataframe\">\n",
              "  <thead>\n",
              "    <tr style=\"text-align: right;\">\n",
              "      <th></th>\n",
              "      <th>duration</th>\n",
              "      <th>protocol_type</th>\n",
              "      <th>...</th>\n",
              "      <th>dst_host_srv_rerror_rate</th>\n",
              "      <th>outcome</th>\n",
              "    </tr>\n",
              "  </thead>\n",
              "  <tbody>\n",
              "    <tr>\n",
              "      <th>0</th>\n",
              "      <td>0</td>\n",
              "      <td>tcp</td>\n",
              "      <td>...</td>\n",
              "      <td>0.0</td>\n",
              "      <td>normal.</td>\n",
              "    </tr>\n",
              "    <tr>\n",
              "      <th>1</th>\n",
              "      <td>0</td>\n",
              "      <td>tcp</td>\n",
              "      <td>...</td>\n",
              "      <td>0.0</td>\n",
              "      <td>normal.</td>\n",
              "    </tr>\n",
              "    <tr>\n",
              "      <th>2</th>\n",
              "      <td>0</td>\n",
              "      <td>tcp</td>\n",
              "      <td>...</td>\n",
              "      <td>0.0</td>\n",
              "      <td>normal.</td>\n",
              "    </tr>\n",
              "    <tr>\n",
              "      <th>3</th>\n",
              "      <td>0</td>\n",
              "      <td>tcp</td>\n",
              "      <td>...</td>\n",
              "      <td>0.0</td>\n",
              "      <td>normal.</td>\n",
              "    </tr>\n",
              "    <tr>\n",
              "      <th>4</th>\n",
              "      <td>0</td>\n",
              "      <td>tcp</td>\n",
              "      <td>...</td>\n",
              "      <td>0.0</td>\n",
              "      <td>normal.</td>\n",
              "    </tr>\n",
              "  </tbody>\n",
              "</table>\n",
              "<p>5 rows × 42 columns</p>\n",
              "</div>"
            ],
            "text/plain": [
              "   duration protocol_type  ... dst_host_srv_rerror_rate  outcome\n",
              "0         0           tcp  ...                      0.0  normal.\n",
              "1         0           tcp  ...                      0.0  normal.\n",
              "2         0           tcp  ...                      0.0  normal.\n",
              "3         0           tcp  ...                      0.0  normal.\n",
              "4         0           tcp  ...                      0.0  normal.\n",
              "\n",
              "[5 rows x 42 columns]"
            ]
          },
          "metadata": {
            "tags": []
          }
        }
      ]
    },
    {
      "cell_type": "code",
      "metadata": {
        "colab": {
          "base_uri": "https://localhost:8080/",
          "height": 236
        },
        "id": "dCzNCAhuZaWj",
        "outputId": "cfed1698-f102-4d91-cf87-30816476cb19"
      },
      "source": [
        "#მონაცემთა ინჟინერია (მონაცემთა წინარე პროცესი)\n",
        "def Preprocesses(df):\n",
        "  #მონაცემთა წინარე პროცესში სტრინგის შემცველ სვეტებს გადავაქცევთ შესაბამის რიცხვით ცვლადად\n",
        "    str_cols=['protocol_type',\n",
        "    'service',\n",
        "    'flag']\n",
        "    dic={}\n",
        "    replace_dic={}\n",
        "    #ვინახავთ თითოეულ გადაყვანილ რიცხვით ცვლადს Dictionary ტიპის მასივში. \n",
        "    #საჭიროების შემთხვევაში გამოყენებისთვის\n",
        "    for words in str_cols:\n",
        "        lst=[]\n",
        "        for word in df[words]:\n",
        "            if word not in lst:\n",
        "                lst.append(word)\n",
        "        dic[words]=[dict(zip(lst,range(0,len(lst))))]\n",
        "        replace_dic[words]=dict(zip(lst,range(0,len(lst))))\n",
        "    \n",
        "    for idx,words in enumerate(str_cols):\n",
        "        df[words]=df[words].replace([value for value in replace_dic.values()][idx])\n",
        "    return df\n",
        "Preprocesses(df)"
      ],
      "execution_count": null,
      "outputs": [
        {
          "output_type": "execute_result",
          "data": {
            "text/html": [
              "<div>\n",
              "<style scoped>\n",
              "    .dataframe tbody tr th:only-of-type {\n",
              "        vertical-align: middle;\n",
              "    }\n",
              "\n",
              "    .dataframe tbody tr th {\n",
              "        vertical-align: top;\n",
              "    }\n",
              "\n",
              "    .dataframe thead th {\n",
              "        text-align: right;\n",
              "    }\n",
              "</style>\n",
              "<table border=\"1\" class=\"dataframe\">\n",
              "  <thead>\n",
              "    <tr style=\"text-align: right;\">\n",
              "      <th></th>\n",
              "      <th>duration</th>\n",
              "      <th>protocol_type</th>\n",
              "      <th>...</th>\n",
              "      <th>dst_host_srv_rerror_rate</th>\n",
              "      <th>outcome</th>\n",
              "    </tr>\n",
              "  </thead>\n",
              "  <tbody>\n",
              "    <tr>\n",
              "      <th>0</th>\n",
              "      <td>0</td>\n",
              "      <td>0</td>\n",
              "      <td>...</td>\n",
              "      <td>0.0</td>\n",
              "      <td>normal.</td>\n",
              "    </tr>\n",
              "    <tr>\n",
              "      <th>1</th>\n",
              "      <td>0</td>\n",
              "      <td>0</td>\n",
              "      <td>...</td>\n",
              "      <td>0.0</td>\n",
              "      <td>normal.</td>\n",
              "    </tr>\n",
              "    <tr>\n",
              "      <th>...</th>\n",
              "      <td>...</td>\n",
              "      <td>...</td>\n",
              "      <td>...</td>\n",
              "      <td>...</td>\n",
              "      <td>...</td>\n",
              "    </tr>\n",
              "    <tr>\n",
              "      <th>494019</th>\n",
              "      <td>0</td>\n",
              "      <td>0</td>\n",
              "      <td>...</td>\n",
              "      <td>0.0</td>\n",
              "      <td>normal.</td>\n",
              "    </tr>\n",
              "    <tr>\n",
              "      <th>494020</th>\n",
              "      <td>0</td>\n",
              "      <td>0</td>\n",
              "      <td>...</td>\n",
              "      <td>0.0</td>\n",
              "      <td>normal.</td>\n",
              "    </tr>\n",
              "  </tbody>\n",
              "</table>\n",
              "<p>494021 rows × 42 columns</p>\n",
              "</div>"
            ],
            "text/plain": [
              "        duration  protocol_type  ...  dst_host_srv_rerror_rate  outcome\n",
              "0              0              0  ...                       0.0  normal.\n",
              "1              0              0  ...                       0.0  normal.\n",
              "...          ...            ...  ...                       ...      ...\n",
              "494019         0              0  ...                       0.0  normal.\n",
              "494020         0              0  ...                       0.0  normal.\n",
              "\n",
              "[494021 rows x 42 columns]"
            ]
          },
          "metadata": {
            "tags": []
          },
          "execution_count": 51
        }
      ]
    },
    {
      "cell_type": "code",
      "metadata": {
        "id": "vuQRo5rFZg6N"
      },
      "source": [
        "#X-სა და Y-ში ვინახავთ დაენკოდერიბულ ცვლადებს\n",
        "x_columns = df.columns.drop('outcome')\n",
        "x = df[x_columns].values\n",
        "dummies = pd.get_dummies(df['outcome']) \n",
        "outcomes = dummies.columns\n",
        "num_classes = len(outcomes)\n",
        "y = dummies.values"
      ],
      "execution_count": null,
      "outputs": []
    },
    {
      "cell_type": "code",
      "metadata": {
        "id": "e8zLVmc4ZjF_"
      },
      "source": [
        "#ვყოფთ მონაცემებს სამრწვრთენ და სატესტო სიმრავლეებად. 75/25 პროპორციული განაწილებით\n",
        "x_train, x_test, y_train, y_test = train_test_split(\n",
        "    x, y, test_size=0.25, random_state=42)\n"
      ],
      "execution_count": null,
      "outputs": []
    },
    {
      "cell_type": "code",
      "metadata": {
        "colab": {
          "base_uri": "https://localhost:8080/",
          "height": 236
        },
        "id": "g9ub1Xb5s2Yq",
        "outputId": "7ac61e44-8eb8-4ed6-9e30-c87523a1ad7e"
      },
      "source": [
        ""
      ],
      "execution_count": null,
      "outputs": [
        {
          "output_type": "execute_result",
          "data": {
            "text/html": [
              "<div>\n",
              "<style scoped>\n",
              "    .dataframe tbody tr th:only-of-type {\n",
              "        vertical-align: middle;\n",
              "    }\n",
              "\n",
              "    .dataframe tbody tr th {\n",
              "        vertical-align: top;\n",
              "    }\n",
              "\n",
              "    .dataframe thead th {\n",
              "        text-align: right;\n",
              "    }\n",
              "</style>\n",
              "<table border=\"1\" class=\"dataframe\">\n",
              "  <thead>\n",
              "    <tr style=\"text-align: right;\">\n",
              "      <th></th>\n",
              "      <th>duration</th>\n",
              "      <th>protocol_type</th>\n",
              "      <th>...</th>\n",
              "      <th>dst_host_srv_rerror_rate</th>\n",
              "      <th>outcome</th>\n",
              "    </tr>\n",
              "  </thead>\n",
              "  <tbody>\n",
              "    <tr>\n",
              "      <th>0</th>\n",
              "      <td>0</td>\n",
              "      <td>0</td>\n",
              "      <td>...</td>\n",
              "      <td>0.0</td>\n",
              "      <td>normal.</td>\n",
              "    </tr>\n",
              "    <tr>\n",
              "      <th>1</th>\n",
              "      <td>0</td>\n",
              "      <td>0</td>\n",
              "      <td>...</td>\n",
              "      <td>0.0</td>\n",
              "      <td>normal.</td>\n",
              "    </tr>\n",
              "    <tr>\n",
              "      <th>...</th>\n",
              "      <td>...</td>\n",
              "      <td>...</td>\n",
              "      <td>...</td>\n",
              "      <td>...</td>\n",
              "      <td>...</td>\n",
              "    </tr>\n",
              "    <tr>\n",
              "      <th>494019</th>\n",
              "      <td>0</td>\n",
              "      <td>0</td>\n",
              "      <td>...</td>\n",
              "      <td>0.0</td>\n",
              "      <td>normal.</td>\n",
              "    </tr>\n",
              "    <tr>\n",
              "      <th>494020</th>\n",
              "      <td>0</td>\n",
              "      <td>0</td>\n",
              "      <td>...</td>\n",
              "      <td>0.0</td>\n",
              "      <td>normal.</td>\n",
              "    </tr>\n",
              "  </tbody>\n",
              "</table>\n",
              "<p>494021 rows × 42 columns</p>\n",
              "</div>"
            ],
            "text/plain": [
              "        duration  protocol_type  ...  dst_host_srv_rerror_rate  outcome\n",
              "0              0              0  ...                       0.0  normal.\n",
              "1              0              0  ...                       0.0  normal.\n",
              "...          ...            ...  ...                       ...      ...\n",
              "494019         0              0  ...                       0.0  normal.\n",
              "494020         0              0  ...                       0.0  normal.\n",
              "\n",
              "[494021 rows x 42 columns]"
            ]
          },
          "metadata": {
            "tags": []
          },
          "execution_count": 53
        }
      ]
    },
    {
      "cell_type": "code",
      "metadata": {
        "colab": {
          "base_uri": "https://localhost:8080/"
        },
        "id": "3wiHdwrJZwwa",
        "outputId": "5e01c3f4-b2c1-453e-8f81-93a500c55346"
      },
      "source": [
        "#ვქმნით ხელოვნური ნეირონული ქსელის მოდელს\n",
        "model = Sequential()\n",
        "model.add(Dense(10, input_dim=x.shape[1], activation='relu'))\n",
        "model.add(Dense(50, input_dim=x.shape[1], activation='relu'))\n",
        "model.add(Dense(10, input_dim=x.shape[1], activation='relu'))\n",
        "model.add(Dense(1, kernel_initializer='normal'))\n",
        "model.add(Dense(y.shape[1],activation='softmax'))\n",
        "model.compile(loss='categorical_crossentropy', optimizer='adam')\n",
        "model.fit(x_train,y_train,validation_data=(x_test,y_test),\n",
        "          epochs=10)"
      ],
      "execution_count": null,
      "outputs": [
        {
          "output_type": "stream",
          "text": [
            "Epoch 1/10\n",
            "11579/11579 [==============================] - 20s 2ms/step - loss: 0.4192 - val_loss: 0.1064\n",
            "Epoch 2/10\n",
            "11579/11579 [==============================] - 20s 2ms/step - loss: 0.0818 - val_loss: 0.0721\n",
            "Epoch 3/10\n",
            "11579/11579 [==============================] - 20s 2ms/step - loss: 0.0701 - val_loss: 0.0659\n",
            "Epoch 4/10\n",
            "11579/11579 [==============================] - 20s 2ms/step - loss: 0.0643 - val_loss: 0.0641\n",
            "Epoch 5/10\n",
            "11579/11579 [==============================] - 20s 2ms/step - loss: 0.0605 - val_loss: 0.0621\n",
            "Epoch 6/10\n",
            "11579/11579 [==============================] - 20s 2ms/step - loss: 0.0577 - val_loss: 0.0514\n",
            "Epoch 7/10\n",
            "11579/11579 [==============================] - 20s 2ms/step - loss: 0.0576 - val_loss: 0.0562\n",
            "Epoch 8/10\n",
            "11579/11579 [==============================] - 22s 2ms/step - loss: 0.0583 - val_loss: 0.0608\n",
            "Epoch 9/10\n",
            "11579/11579 [==============================] - 20s 2ms/step - loss: 0.0557 - val_loss: 0.0565\n",
            "Epoch 10/10\n",
            "11579/11579 [==============================] - 20s 2ms/step - loss: 0.0539 - val_loss: 0.0554\n"
          ],
          "name": "stdout"
        },
        {
          "output_type": "execute_result",
          "data": {
            "text/plain": [
              "<tensorflow.python.keras.callbacks.History at 0x7f9550af0390>"
            ]
          },
          "metadata": {
            "tags": []
          },
          "execution_count": 48
        }
      ]
    },
    {
      "cell_type": "code",
      "metadata": {
        "colab": {
          "base_uri": "https://localhost:8080/"
        },
        "id": "RD01pqfKZzbT",
        "outputId": "860d75a0-b1e1-43b2-e561-1b779878fd84"
      },
      "source": [
        "#ვითვლით მოდელის სიზუსტეს სავალიდაციო მონაცემებზე\n",
        "pred = model.predict(x_test)\n",
        "pred = np.argmax(pred,axis=1)\n",
        "y_eval = np.argmax(y_test,axis=1)\n",
        "score = metrics.accuracy_score(y_eval, pred)\n",
        "print(\"Validation score: {}\".format(score))"
      ],
      "execution_count": null,
      "outputs": [
        {
          "output_type": "stream",
          "text": [
            "Validation score: 0.9849238093695852\n"
          ],
          "name": "stdout"
        }
      ]
    },
    {
      "cell_type": "code",
      "metadata": {
        "id": "fzauaTE0aSzM"
      },
      "source": [
        ""
      ],
      "execution_count": null,
      "outputs": []
    }
  ]
}